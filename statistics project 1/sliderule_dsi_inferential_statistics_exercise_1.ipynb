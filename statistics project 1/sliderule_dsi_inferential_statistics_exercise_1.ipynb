{
 "cells": [
  {
   "cell_type": "markdown",
   "metadata": {},
   "source": [
    "## What is the true normal human body temperature? \n",
    "\n",
    "#### Background\n",
    "\n",
    "The mean normal body temperature was held to be 37$^{\\circ}$C or 98.6$^{\\circ}$F for more than 120 years since it was first conceptualized and reported by Carl Wunderlich in a famous 1868 book. In 1992, this value was revised to 36.8$^{\\circ}$C or 98.2$^{\\circ}$F. \n",
    "\n",
    "#### Exercise\n",
    "In this exercise, you will analyze a dataset of human body temperatures and employ the concepts of hypothesis testing, confidence intervals, and statistical significance.\n",
    "\n",
    "Answer the following questions **in this notebook below and submit to your Github account**. \n",
    "\n",
    "1.  Is the distribution of body temperatures normal? \n",
    "    - Remember that this is a condition for the CLT, and hence the statistical tests we are using, to apply. \n",
    "2.  Is the true population mean really 98.6 degrees F?\n",
    "    - Bring out the one sample hypothesis test! In this situation, is it approriate to apply a z-test or a t-test? How will the result be different?\n",
    "3.  At what temperature should we consider someone's temperature to be \"abnormal\"?\n",
    "    - Start by computing the margin of error and confidence interval.\n",
    "4.  Is there a significant difference between males and females in normal temperature?\n",
    "    - Set up and solve for a two sample hypothesis testing.\n",
    "\n",
    "You can include written notes in notebook cells using Markdown: \n",
    "   - In the control panel at the top, choose Cell > Cell Type > Markdown\n",
    "   - Markdown syntax: http://nestacms.com/docs/creating-content/markdown-cheat-sheet\n",
    "\n",
    "#### Resources\n",
    "\n",
    "+ Information and data sources: http://www.amstat.org/publications/jse/datasets/normtemp.txt, http://www.amstat.org/publications/jse/jse_data_archive.htm\n",
    "+ Markdown syntax: http://nestacms.com/docs/creating-content/markdown-cheat-sheet\n",
    "\n",
    "****"
   ]
  },
  {
   "cell_type": "code",
   "execution_count": 3,
   "metadata": {
    "collapsed": false
   },
   "outputs": [],
   "source": [
    "import pandas as pd\n",
    "import matplotlib as plt\n",
    "%matplotlib inline\n",
    "plt.style.use('ggplot')"
   ]
  },
  {
   "cell_type": "code",
   "execution_count": 4,
   "metadata": {
    "collapsed": false
   },
   "outputs": [],
   "source": [
    "df = pd.read_csv('data/human_body_temperature.csv')"
   ]
  },
  {
   "cell_type": "code",
   "execution_count": 5,
   "metadata": {
    "collapsed": false
   },
   "outputs": [
    {
     "data": {
      "text/plain": [
       "<matplotlib.axes._subplots.AxesSubplot at 0x7ff203fa0da0>"
      ]
     },
     "execution_count": 5,
     "metadata": {},
     "output_type": "execute_result"
    },
    {
     "data": {
      "image/png": "[encoded data removed]",
      "text/plain": [
       "<matplotlib.figure.Figure at 0x7ff2345cf5f8>"
      ]
     },
     "metadata": {},
     "output_type": "display_data"
    }
   ],
   "source": [
    "df.temperature.hist()"
   ]
  },
  {
   "cell_type": "markdown",
   "metadata": {},
   "source": [
    "The body temperatures seem to be a bi-modal distribution. Presumably, the distribution represents two different populations. In this case,the two modes may represent the difference in genders. One way to determine this is to plot the distributions by gender. "
   ]
  },
  {
   "cell_type": "code",
   "execution_count": 6,
   "metadata": {
    "collapsed": false
   },
   "outputs": [
    {
     "data": {
      "text/plain": [
       "gender\n",
       "F    Axes(0.125,0.125;0.775x0.775)\n",
       "M    Axes(0.125,0.125;0.775x0.775)\n",
       "Name: temperature, dtype: object"
      ]
     },
     "execution_count": 6,
     "metadata": {},
     "output_type": "execute_result"
    },
    {
     "data": {
      "image/png": "[encoded data removed]",
      "text/plain": [
       "<matplotlib.figure.Figure at 0x7ff203c6a9e8>"
      ]
     },
     "metadata": {},
     "output_type": "display_data"
    }
   ],
   "source": [
    "gender_df = df.groupby ('gender')\n",
    "gender_df.temperature.hist(alpha = 0.4)"
   ]
  },
  {
   "cell_type": "markdown",
   "metadata": {},
   "source": [
    "As can be seen above, grouping the data by genders yields two different normal distributions. "
   ]
  },
  {
   "cell_type": "markdown",
   "metadata": {},
   "source": [
    "Is the true population mean really 98.6 degrees F?\n",
    "To answer this question, \n",
    "lets consider the Null hypothesis: True population mean = 98.6 degree F \n",
    "and the alternative hypothesis : True population mean <> 98.6 degree F\n",
    "Further, lests assume null hypothesis is true. \n",
    "Now, To apply the z-test lets compute z-statistic of the sample mean:"
   ]
  },
  {
   "cell_type": "code",
   "execution_count": 11,
   "metadata": {
    "collapsed": false
   },
   "outputs": [
    {
     "name": "stdout",
     "output_type": "stream",
     "text": [
      "Sample Mean   =  98.24923076923078\n",
      "Sample Size =  130\n",
      "Sample Standard Deviation , s =  0.7331831580389454\n",
      "Estimated standard deviaition of sample distribution of sample mean:  0.06430441683789101\n",
      "Z-statistic for sample mean:  -5.454823292364079\n"
     ]
    }
   ],
   "source": [
    "import math as math\n",
    "x = df.temperature.mean()\n",
    "mu = 98.6\n",
    "n = len(df.temperature)\n",
    "s = df.temperature.std()\n",
    "sigma = s/math.sqrt(n)\n",
    "print(\"Sample Mean   = \", x)\n",
    "print(\"Sample Size = \", n)\n",
    "print(\"Sample Standard Deviation , s = \", s)\n",
    "print(\"Estimated standard deviaition of sample distribution of sample mean: \", sigma)\n",
    "print(\"Z-statistic for sample mean: \", ((x-mu)/sigma))"
   ]
  },
  {
   "cell_type": "markdown",
   "metadata": {},
   "source": [
    "Assuming null hypothesis is true, the probability of getting a sample mean of 98.25 is extremely low, since the sample mean is more than 5 standard deviations below the mean of the sample distribution of sample mean.This would mean the alternative hypothesis is true - The true population mean is not really 98.6 degree F\n",
    "\n",
    "The Z-test is appropriate since the sample size is large.\n",
    "\n",
    "But if we apply T-test, we have to figure the probability of the t-statistic given the null hypothesis.\n",
    "The critical t value for a confidence level of 99.9% is +-3.39 from the t-distribution mean. Since the T-statistic falls outside this range the probability of randomly picking a sample with the t-statistic given the null hypothesis is less 0.1% and hence the null hypothesis can be rejected."
   ]
  },
  {
   "cell_type": "markdown",
   "metadata": {},
   "source": [
    "At what temperature should we consider someone's temperature to be \"abnormal\"?\n",
    "\n",
    "Let us consider a confidence interval of 99% and estimate the population mean temperature from sample mean. The sample mean as computed above is 98.25. The standard deviation of the sample mean is 0.064\n",
    "\n",
    "The probability that the sample mean (98.25) is three standard deviations away from the mean of the sample mean distributuion is 99.7%. This can also be stated as the probability that the population mean is with in 3 standard deviations from sample mean (98.25) . We have estimated the standard deviation of the sample mean distribution as 0.064. "
   ]
  },
  {
   "cell_type": "code",
   "execution_count": 10,
   "metadata": {
    "collapsed": false
   },
   "outputs": [
    {
     "name": "stdout",
     "output_type": "stream",
     "text": [
      "The mean temperature is with in  98.05631751871711 and 98.44214401974445 With a confidence interval of 99.7%\n"
     ]
    }
   ],
   "source": [
    "print (\"The mean temperature is with in \",x-3*sigma, \"and\", x+3*sigma, \"With a confidence interval of 99.7%\")"
   ]
  },
  {
   "cell_type": "markdown",
   "metadata": {},
   "source": [
    "So an individuals temperature can be considered abnormal if it lies outside of the above range with a type 1 error of 0.3%"
   ]
  },
  {
   "cell_type": "markdown",
   "metadata": {},
   "source": [
    "Is there a significant difference between males and females in normal temperature?\n",
    "\n",
    "To answer this question, let us assume the Null hypothesis that the difference between the gender means is 0. Now, assuming this null hypothesis is true lets compute the probability of getting specific sample mean diffrence from our samples. "
   ]
  },
  {
   "cell_type": "code",
   "execution_count": 29,
   "metadata": {
    "collapsed": false
   },
   "outputs": [
    {
     "name": "stdout",
     "output_type": "stream",
     "text": [
      "The mean difference between genders:  0.289230769231\n",
      "The standard deviation:  1.0203105673500414\n"
     ]
    }
   ],
   "source": [
    "import math as m\n",
    "x1=gender_df.temperature.mean().F - gender_df.temperature.mean().M\n",
    "std1 = m.sqrt(gender_df.temperature.var().F + gender_df.temperature.var().M)\n",
    "print (\"The mean difference between genders: \", x1)\n",
    "print (\"The standard deviation: \", std1)"
   ]
  },
  {
   "cell_type": "markdown",
   "metadata": {},
   "source": [
    "Lets compute the probability of getting the above mean difference given Null hypothesis is true. "
   ]
  },
  {
   "cell_type": "code",
   "execution_count": 32,
   "metadata": {
    "collapsed": false
   },
   "outputs": [
    {
     "name": "stdout",
     "output_type": "stream",
     "text": [
      "Z-score :  -0.283473266362\n"
     ]
    }
   ],
   "source": [
    "print (\"Z-score : \", (0-x1)/std1)"
   ]
  },
  {
   "cell_type": "markdown",
   "metadata": {},
   "source": [
    "The probability of getting the above sample mean differnce is 0.2% given the nul hypothesis is true, hence we can reject the Null hypothesis. Hence the alternative hypothesis that there is a significant differnce between male and female temperatures is true. "
   ]
  }
 ],
 "metadata": {
  "kernelspec": {
   "display_name": "Python 3",
   "language": "python",
   "name": "python3"
  },
  "language_info": {
   "codemirror_mode": {
    "name": "ipython",
    "version": 3
   },
   "file_extension": ".py",
   "mimetype": "text/x-python",
   "name": "python",
   "nbconvert_exporter": "python",
   "pygments_lexer": "ipython3",
   "version": "3.5.1"
  }
 },
 "nbformat": 4,
 "nbformat_minor": 0
}
