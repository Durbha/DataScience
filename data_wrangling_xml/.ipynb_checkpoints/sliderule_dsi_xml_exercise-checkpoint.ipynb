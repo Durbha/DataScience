{
 "cells": [
  {
   "cell_type": "code",
   "execution_count": 1,
   "metadata": {
    "collapsed": false
   },
   "outputs": [
    {
     "ename": "SyntaxError",
     "evalue": "invalid syntax (<ipython-input-1-f748c1fe34e0>, line 2)",
     "output_type": "error",
     "traceback": [
      "\u001b[1;36m  File \u001b[1;32m\"<ipython-input-1-f748c1fe34e0>\"\u001b[1;36m, line \u001b[1;32m2\u001b[0m\n\u001b[1;33m    ****\u001b[0m\n\u001b[1;37m     ^\u001b[0m\n\u001b[1;31mSyntaxError\u001b[0m\u001b[1;31m:\u001b[0m invalid syntax\n"
     ]
    }
   ],
   "source": [
    "# XML example and exercise\n",
    "****\n",
    "+ study examples of accessing nodes in XML tree structure  \n",
    "+ work on exercise to be completed and submitted\n",
    "****\n",
    "+ reference: https://docs.python.org/2.7/library/xml.etree.elementtree.html\n",
    "+ data source: http://www.dbis.informatik.uni-goettingen.de/Mondial\n",
    "****"
   ]
  },
  {
   "cell_type": "code",
   "execution_count": 2,
   "metadata": {
    "collapsed": true
   },
   "outputs": [],
   "source": [
    "from xml.etree import ElementTree as ET"
   ]
  },
  {
   "cell_type": "markdown",
   "metadata": {},
   "source": [
    "## XML example\n",
    "\n",
    "+ for details about tree traversal and iterators, see https://docs.python.org/2.7/library/xml.etree.elementtree.html"
   ]
  },
  {
   "cell_type": "code",
   "execution_count": 6,
   "metadata": {
    "collapsed": false
   },
   "outputs": [],
   "source": [
    "document_tree = ET.parse( './data/mondial_database_less.xml' )"
   ]
  },
  {
   "cell_type": "code",
   "execution_count": 7,
   "metadata": {
    "collapsed": false
   },
   "outputs": [
    {
     "name": "stdout",
     "output_type": "stream",
     "text": [
      "Albania\n",
      "Greece\n",
      "Macedonia\n",
      "Serbia\n",
      "Montenegro\n",
      "Kosovo\n",
      "Andorra\n"
     ]
    }
   ],
   "source": [
    "# print names of all countries\n",
    "for child in document_tree.getroot():\n",
    "    print (child.find('name').text)\n",
    "    "
   ]
  },
  {
   "cell_type": "code",
   "execution_count": 8,
   "metadata": {
    "collapsed": false
   },
   "outputs": [
    {
     "data": {
      "text/plain": [
       "range(0, 228)"
      ]
     },
     "execution_count": 8,
     "metadata": {},
     "output_type": "execute_result"
    }
   ],
   "source": [
    "document = ET.parse( './data/mondial_database.xml' )\n",
    "root = document.getroot()\n",
    "name_list = []\n",
    "im_list =[]\n",
    "im_dict={}\n",
    "#for name in root.iter('name'):\n",
    "#    name_list.append(name.text)\n",
    "for im in root.iter('infant_mortality'):\n",
    "    #if im is None:\n",
    "    #    im_list.append(\"Unknown\")\n",
    "    #else:\n",
    "        im_list.append(im.text)\n",
    "#range(len(name_list))\n",
    "range(len(im_list))\n",
    "        #for i in range(len(name_list)):\n",
    "#    im_dict[name_list[i]] = im_list[i]\n",
    "\n"
   ]
  },
  {
   "cell_type": "code",
   "execution_count": 9,
   "metadata": {
    "collapsed": false
   },
   "outputs": [
    {
     "name": "stdout",
     "output_type": "stream",
     "text": [
      "* Albania:\n",
      "Tirana, Shkodër, Durrës, Vlorë, Elbasan, Korçë\n",
      "* Greece:\n",
      "Komotini, Kavala, Athina, Peiraias, Peristeri, Acharnes, Patra, Kozani, Kerkyra, Ioannina, Thessaloniki, Iraklio, Chania, Ermoupoli, Rhodes, Tripoli, Lamia, Chalkida, Larissa, Volos, Mytilini, Karyes\n",
      "* Macedonia:\n",
      "Skopje, Kumanovo\n",
      "* Serbia:\n",
      "Beograd, Novi Sad, Niš\n",
      "* Montenegro:\n",
      "Podgorica\n",
      "* Kosovo:\n",
      "Prishtine\n",
      "* Andorra:\n",
      "Andorra la Vella\n"
     ]
    }
   ],
   "source": [
    "# print names of all countries and their cities\n",
    "for element in document_tree.iterfind('country'):\n",
    "    print ('* ' + element.find('name').text + ':',)\n",
    "    capitals_string = ''\n",
    "    for subelement in element.getiterator('city'):\n",
    "        capitals_string += subelement.find('name').text + ', '\n",
    "    print (capitals_string[:-2])"
   ]
  },
  {
   "cell_type": "markdown",
   "metadata": {},
   "source": [
    "****\n",
    "## XML exercise\n",
    "\n",
    "Using data in 'data/mondial_database.xml', the examples above, and refering to https://docs.python.org/2.7/library/xml.etree.elementtree.html, find\n",
    "\n",
    "1. 10 countries with the lowest infant mortality rates\n",
    "2. 10 cities with the largest population\n",
    "3. 10 ethnic groups with the largest overall populations (sum of best/latest estimates over all countries)\n",
    "4. name and country of a) longest river, b) largest lake and c) airport at highest elevation"
   ]
  },
  {
   "cell_type": "code",
   "execution_count": null,
   "metadata": {
    "collapsed": true
   },
   "outputs": [],
   "source": []
  },
  {
   "cell_type": "code",
   "execution_count": 11,
   "metadata": {
    "collapsed": false
   },
   "outputs": [
    {
     "name": "stdout",
     "output_type": "stream",
     "text": [
      "Gibraltar\n",
      "South Korea\n",
      "British Virgin Islands\n",
      "Sri Lanka\n",
      "Monaco\n",
      "Germany\n",
      "Macao\n",
      "Mongolia\n",
      "Ireland\n",
      "Liechtenstein\n"
     ]
    }
   ],
   "source": [
    "document = ET.parse( './data/mondial_database.xml' )\n",
    "root = document.getroot()\n",
    "keys=[]\n",
    "im_dict={}\n",
    "for element in document.findall('country'):\n",
    "    for country in element.getchildren():\n",
    "        if country.tag == 'infant_mortality':\n",
    "            im = float(country.text)\n",
    "        if country.tag == 'name':\n",
    "            im_dict[im] = country.text\n",
    "keys = im_dict.keys()\n",
    "for key in sorted(keys)[:10]:\n",
    "    print(im_dict[key])     \n",
    "            \n",
    "                "
   ]
  },
  {
   "cell_type": "code",
   "execution_count": 12,
   "metadata": {
    "collapsed": false,
    "scrolled": true
   },
   "outputs": [
    {
     "name": "stdout",
     "output_type": "stream",
     "text": [
      "Shanghai\n",
      "Istanbul\n",
      "Mumbai\n",
      "Moskva\n",
      "Beijing\n",
      "São Paulo\n",
      "Tianjin\n",
      "Guangzhou\n",
      "Delhi\n",
      "Shenzhen\n"
     ]
    }
   ],
   "source": [
    "document = ET.parse( './data/mondial_database.xml' )\n",
    "pop_dict={}\n",
    "keys = []\n",
    "num = 0\n",
    "root = document.getroot()\n",
    "for city in document.iter('city'):\n",
    "    for population in city.findall('population'):\n",
    "        num = num + 1\n",
    "    pop_dict[int(population.text)]  = city.find('name').text\n",
    "keys = pop_dict.keys()\n",
    "for key in sorted(keys,reverse = True)[:10]:\n",
    "    print(pop_dict[key])        "
   ]
  },
  {
   "cell_type": "code",
   "execution_count": 13,
   "metadata": {
    "collapsed": false
   },
   "outputs": [
    {
     "data": {
      "text/plain": [
       "['Han Chinese',\n",
       " 'Indo-Aryan',\n",
       " 'European',\n",
       " 'African',\n",
       " 'Dravidian',\n",
       " 'Mestizo',\n",
       " 'Bengali',\n",
       " 'Russian',\n",
       " 'Japanese',\n",
       " 'Malay']"
      ]
     },
     "execution_count": 13,
     "metadata": {},
     "output_type": "execute_result"
    }
   ],
   "source": [
    "document = ET.parse( './data/mondial_database.xml' )\n",
    "root = document.getroot()\n",
    "egrp_dict ={}\n",
    "for country in document.iter('country'):\n",
    "    for population in country.findall('population'):\n",
    "        num = num+1\n",
    "    population = population.text\n",
    "    for egrp in country.iter('ethnicgroup'):\n",
    "        egrp_name = egrp.text\n",
    "        egrp_per = egrp.attrib['percentage']\n",
    "        if egrp_name in egrp_dict:\n",
    "            egrp_dict[egrp_name] = egrp_dict[egrp_name] + int((float(egrp_per)/100)*float(population))\n",
    "        else:\n",
    "            egrp_dict[egrp_name] = int((float(egrp_per)/100)*float(population))\n",
    "sorted(egrp_dict, key=lambda k: egrp_dict[k] ,reverse = True)[:10]\n",
    "    \n",
    "    "
   ]
  },
  {
   "cell_type": "code",
   "execution_count": 46,
   "metadata": {
    "collapsed": false
   },
   "outputs": [
    {
     "name": "stdout",
     "output_type": "stream",
     "text": [
      "longest river:  Amazonas length:  6448.0 Source Country:  Peru \n",
      "\n",
      "largest lake:  Caspian Sea Area:  386400.0 Country:  Russia \n",
      "\n",
      "Highest elevated airport:  El Alto Intl Elevation:  4063.0 Country:  Bolivia\n"
     ]
    }
   ],
   "source": [
    "country_dict={}\n",
    "document = ET.parse( './data/mondial_database.xml' )\n",
    "for country in document.findall('country'):\n",
    "    country_dict[country.attrib['car_code']] = country.find('name').text\n",
    "length = 0\n",
    "area = 0\n",
    "elevation = 0\n",
    "\n",
    "for river in document.iter('river'):\n",
    "    if river.find('length') is not None:\n",
    "        if float(river.find('length').text) > length:      \n",
    "            length = float(river.find('length').text)\n",
    "            if river.find('source').find('located') is not None:\n",
    "                lrc = country_dict[river.find('source').find('located').attrib['country']]\n",
    "            if river.find('name') is not None:\n",
    "                rname = river.find('name').text\n",
    "print (\"longest river: \",rname,\"length: \" ,length ,\"Source Country: \", lrc ,\"\\n\")\n",
    "for lake in document.iter('lake'):\n",
    "    if lake.find('area') is not None:\n",
    "        if float(lake.find('area').text) > area:      \n",
    "            area = float(lake.find('area').text)\n",
    "            if lake.find('located').attrib['country'] is not None:\n",
    "                llc = country_dict[lake.find('located').attrib['country']]\n",
    "            if lake.find('name') is not None:\n",
    "                lname = lake.find('name').text\n",
    "print (\"largest lake: \",lname,\"Area: \" ,area ,\"Country: \", llc ,\"\\n\")\n",
    "for airport in document.iter('airport'):\n",
    "    if airport.find('elevation').text is not None:\n",
    "        if float(airport.find('elevation').text) > elevation:\n",
    "            elevation = float(airport.find('elevation').text)\n",
    "            if airport.attrib['country'] is not None:\n",
    "                eac = country_dict[airport.attrib['country']]\n",
    "            if airport.find('name') is not None:\n",
    "                aname = airport.find('name').text\n",
    "print (\"Highest elevated airport: \",aname,\"Elevation: \" ,elevation ,\"Country: \", eac )"
   ]
  }
 ],
 "metadata": {
  "kernelspec": {
   "display_name": "Python 3",
   "language": "python",
   "name": "python3"
  },
  "language_info": {
   "codemirror_mode": {
    "name": "ipython",
    "version": 3
   },
   "file_extension": ".py",
   "mimetype": "text/x-python",
   "name": "python",
   "nbconvert_exporter": "python",
   "pygments_lexer": "ipython3",
   "version": "3.5.1"
  }
 },
 "nbformat": 4,
 "nbformat_minor": 0
}
