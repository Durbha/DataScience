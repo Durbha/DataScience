{
 "cells": [
  {
   "cell_type": "markdown",
   "metadata": {},
   "source": [
    "## Using workload and SQL metrics to predict execution time"
   ]
  },
  {
   "cell_type": "markdown",
   "metadata": {},
   "source": [
    "### Import the libraries and define functions that compute SQL metrics"
   ]
  },
  {
   "cell_type": "code",
   "execution_count": 12,
   "metadata": {
    "collapsed": true
   },
   "outputs": [],
   "source": [
    "from multiprocessing import Process, Queue\n",
    "import glob\n",
    "import pandas as pd\n",
    "import os\n",
    "import re\n",
    "import matplotlib.pyplot as plt\n",
    "import math as m\n",
    "import numpy as np\n",
    "%matplotlib inline\n",
    "plt.style.use('ggplot')\n",
    "\n",
    "def collect_sqlm(num1,num2,queue):\n",
    "    for i in range (num1,num2):\n",
    "        tablenames = []\n",
    "        operand_size = 0\n",
    "        index_size = 0\n",
    "        log_os = 0\n",
    "        log_is = 0\n",
    "        regex =[]\n",
    "        query = fdf.loc[i,('query')].upper()\n",
    "        query = re.sub(r',\\s+', ',', query)\n",
    "        if re.search(r'\\ASELECT|INSERT|DELETE',query):\n",
    "            regex = re.findall(r'(?<=FROM|JOIN|INTO)\\s+[\\w.]+',query)\n",
    "        if re.search(r'\\AUPDATE',query):\n",
    "            regex = re.findall(r'(?<=UPDATE)\\s+[\\w.]+',query)\n",
    "        if re.search(r'\\AMERGE',query):\n",
    "            regex1 = re.findall(r'(?<=INTO)\\s+[\\w.]+',query)\n",
    "            regex2 = re.findall(r'(?<=MERGE)\\s+[\\w.]+',query)\n",
    "            regex = regex1+regex2\n",
    "        for item in regex:\n",
    "            for table in item.split(','):\n",
    "                tablenames.append(table)\n",
    "        for table in tablenames:\n",
    "            tableschema = ''\n",
    "            tablename = ''\n",
    "            if len(table.split('.')) == 2:\n",
    "                tableschema = table.split('.')[0]\n",
    "                tablename = table.split('.')[1]\n",
    "                try:\n",
    "                    operand_size = operand_size + sizedf.loc[tableschema.strip(),tablename.strip()].object_size\n",
    "                    \n",
    "                except KeyError:\n",
    "                    operand_size = 0\n",
    "                try:\n",
    "                    index_size = index_size + sizedf.loc[tableschema.strip(),tablename.strip()].index_size\n",
    "                except KeyError:\n",
    "                    index_size = 0\n",
    "        num_operations = 0\n",
    "        \n",
    "        base_operation = 'SELECT|INSERT|DELETE|UPDATE|MERGE|VALUES'\n",
    "        set_operation = 'JOIN|UNION'\n",
    "        final_operation = 'ORDER BY| GROUP BY'\n",
    "        regex = re.findall(base_operation,query)\n",
    "        num_operations = num_operations+len(regex)\n",
    "        regex = re.findall(set_operation,query)\n",
    "        num_operations = num_operations+len(regex)\n",
    "        regex = re.findall(final_operation,query)\n",
    "        num_operations = num_operations+len(regex)\n",
    "        \n",
    "        num_filters = 0\n",
    "        regex = re.findall(r'WHERE',query)\n",
    "        num_filters = len(regex)\n",
    "        regex = re.findall(r' AND | OR ',query)\n",
    "        num_filters = num_filters + len(regex)\n",
    "        \n",
    "        objects_size_tuple = (i,operand_size/1024/1024,index_size/1024/1024,num_operations,num_filters)\n",
    "        queue.put(objects_size_tuple)\n",
    "    queue.put((-1,-1,-1,-1,-1))\n",
    "    return\n",
    "\n",
    "def read_queue(queue):\n",
    "    global sizobj_list\n",
    "    global num_procs\n",
    "    count = 0\n",
    "    while True:\n",
    "            location , operand_size,index_size,num_operations,num_filters = queue.get()\n",
    "            if (operand_size == -1):\n",
    "                count = count + 1\n",
    "                #print (count)\n",
    "            else:\n",
    "                sizeobj_list.append((location,operand_size,index_size,num_operations,num_filters))\n",
    "            if (count == num_procs):\n",
    "                print (\"done\")\n",
    "                break\n",
    "    return"
   ]
  },
  {
   "cell_type": "markdown",
   "metadata": {},
   "source": [
    "### Read the raw data for SQL metrics, Workload Metrics and Object sizes"
   ]
  },
  {
   "cell_type": "code",
   "execution_count": 13,
   "metadata": {
    "collapsed": false
   },
   "outputs": [],
   "source": [
    "path = r'/data/developer/python'    \n",
    "allFiles = glob.glob(path + \"/SQL_Metrics*.csv\")     \n",
    "list_ = []\n",
    "notvalues = []\n",
    "for file_ in allFiles:\n",
    "    regex = re.search('SQL_Metrics_([0-9]*-[0-9]*-[0-9]*)-([0-9]*)', file_)\n",
    "    df = pd.read_csv(file_,sep = '@',names = ['stmt_hash','query','exec_time'],index_col=False)\n",
    "    df['date'] = regex.group(1)\n",
    "    df['hour'] = regex.group(2)\n",
    "    df.exec_time = pd.to_numeric(df.exec_time,errors='coerce')\n",
    "    df.hour = pd.to_numeric(df.hour,errors='coerce')\n",
    "    list_.append(df)\n",
    "fdf = pd.concat(list_,ignore_index=True)\n",
    "fdf = fdf[fdf.exec_time > 0].reset_index().drop('index',axis=1)       \n",
    "\n",
    "\n",
    "\n",
    "allFiles = glob.glob(path + \"/size*.csv\")     \n",
    "list_ = []\n",
    "for file_ in allFiles:\n",
    "    regex = re.search('size*', file_)\n",
    "    sizedf = pd.read_csv(file_,sep = '@',names = ['tableschema','tablename','object_size','index_size','lob_size'],index_col=False)\n",
    "    sizedf = sizedf.set_index(['tableschema', 'tablename'])\n",
    "\n",
    "plt.style.use('ggplot')\n",
    "\n",
    "\n",
    "\n",
    "fields = ['time','lock_wait_time','total_section_sort_time','diaglog_write_wait_time','direct_read_time','direct_write_time','log_buffer_wait_time','log_disk_wait_time','pool_read_time','pool_write_time','prefetch_wait_time','total_act_time','total_act_wait_time','total_cpu_time','total_extended_latch_wait_time','span']\n",
    "path = r'/data/developer/python'    \n",
    "allFiles = glob.glob(path + \"/workload_stats_*.csv\")     \n",
    "list_ = []\n",
    "for file_ in allFiles:\n",
    "    regex = re.search('workload_stats_([0-9]*-[0-9]*-[0-9]*)', file_)\n",
    "    wldf = pd.read_csv(file_,sep = '@',names = fields,index_col=False)\n",
    "    list_.append(wldf)\n",
    "final_wldf = pd.concat(list_,ignore_index=True)\n",
    "final_wldf['hour'] = 0\n",
    "final_wldf['date'] = 0\n",
    "for i in range (0,len(final_wldf)):\n",
    "    regex = re.search('([0-9-]*)T([0-9]*)', final_wldf.loc[i,('time')])\n",
    "    final_wldf.loc[i,('date')] = regex.group(1)\n",
    "    final_wldf.loc[i,('hour')] = int(regex.group(2)) + 1 \n",
    "    \n",
    "final_wldf = final_wldf.set_index(['date', 'hour'])\n",
    "final_wldf.drop('time',axis=1,inplace = True)\n",
    "final_wldf.drop('span',axis=1,inplace = True)\n",
    "\n"
   ]
  },
  {
   "cell_type": "markdown",
   "metadata": {},
   "source": [
    "### Create the data frame with all the predictors and the response variable"
   ]
  },
  {
   "cell_type": "code",
   "execution_count": 16,
   "metadata": {
    "collapsed": false
   },
   "outputs": [
    {
     "name": "stdout",
     "output_type": "stream",
     "text": [
      "done\n",
      "Took 100.95531702041626 seconds with 8 processes.\n"
     ]
    }
   ],
   "source": [
    "import time\n",
    "queue = Queue()\n",
    "num_procs = 8\n",
    "sizeobj_list = []\n",
    "pro_list = []\n",
    "num_rows = len(fdf)\n",
    "group_size = int(num_rows/num_procs)\n",
    "for group_num in range(0,num_procs):\n",
    "    num1 = group_num*(group_size)\n",
    "    num2 = num1 + group_size - 1\n",
    "    proc = Process(target=collect_sqlm, args=(num1,num2,queue))\n",
    "    pro_list.append(proc)\n",
    "\n",
    "start = time.time()\n",
    "for p in pro_list:\n",
    "    p.start()\n",
    "    \n",
    "read_queue(queue)\n",
    "\n",
    "sizeobj_df = pd.DataFrame(sizeobj_list, columns=['location', 'operand_size','index_size','num_operations','num_filters']).set_index('location')\n",
    "\n",
    "final_df_sqlm = fdf.merge(sizeobj_df, left_index = True, right_index=True, how='inner').reset_index().drop('index',axis = 1)\n",
    "\n",
    "sqlm_df = final_df_sqlm[final_df_sqlm.operand_size != 0]\n",
    "\n",
    "processtime = time.time() - start\n",
    "print(\"Took {} seconds with 8 processes.\".format(processtime))\n",
    "\n",
    "sqlm_final_df = sqlm_df.groupby(['date','hour'])['operand_size','index_size','num_operations','num_filters','exec_time'].mean()\n",
    "\n",
    "final_df = sqlm_final_df.merge(final_wldf, left_index = True, right_index=True, how='inner')\n",
    "print(final_df.shape)"
   ]
  },
  {
   "cell_type": "markdown",
   "metadata": {},
   "source": [
    "### Log transform of response variable"
   ]
  },
  {
   "cell_type": "code",
   "execution_count": 56,
   "metadata": {
    "collapsed": false
   },
   "outputs": [],
   "source": [
    "final_df['log_exec_time'] = 0\n",
    "final_df['log_lock_wait_time'] = 0\n",
    "for i in range (0,len(final_df)):\n",
    "        final_df.iloc[i,final_df.columns.get_loc('log_exec_time')] = m.log10(final_df.iloc[i].exec_time)"
   ]
  },
  {
   "cell_type": "markdown",
   "metadata": {},
   "source": [
    "### Linear regression "
   ]
  },
  {
   "cell_type": "code",
   "execution_count": 58,
   "metadata": {
    "collapsed": false
   },
   "outputs": [
    {
     "data": {
      "text/html": [
       "<table class=\"simpletable\">\n",
       "<caption>OLS Regression Results</caption>\n",
       "<tr>\n",
       "  <th>Dep. Variable:</th>      <td>log_exec_time</td>  <th>  R-squared:         </th> <td>   0.891</td>\n",
       "</tr>\n",
       "<tr>\n",
       "  <th>Model:</th>                   <td>OLS</td>       <th>  Adj. R-squared:    </th> <td>   0.889</td>\n",
       "</tr>\n",
       "<tr>\n",
       "  <th>Method:</th>             <td>Least Squares</td>  <th>  F-statistic:       </th> <td>   413.3</td>\n",
       "</tr>\n",
       "<tr>\n",
       "  <th>Date:</th>             <td>Wed, 27 Jul 2016</td> <th>  Prob (F-statistic):</th> <td>1.46e-72</td>\n",
       "</tr>\n",
       "<tr>\n",
       "  <th>Time:</th>                 <td>15:03:23</td>     <th>  Log-Likelihood:    </th> <td> -59.390</td>\n",
       "</tr>\n",
       "<tr>\n",
       "  <th>No. Observations:</th>      <td>   154</td>      <th>  AIC:               </th> <td>   124.8</td>\n",
       "</tr>\n",
       "<tr>\n",
       "  <th>Df Residuals:</th>          <td>   151</td>      <th>  BIC:               </th> <td>   133.9</td>\n",
       "</tr>\n",
       "<tr>\n",
       "  <th>Df Model:</th>              <td>     3</td>      <th>                     </th>     <td> </td>   \n",
       "</tr>\n",
       "<tr>\n",
       "  <th>Covariance Type:</th>      <td>nonrobust</td>    <th>                     </th>     <td> </td>   \n",
       "</tr>\n",
       "</table>\n",
       "<table class=\"simpletable\">\n",
       "<tr>\n",
       "         <td></td>           <th>coef</th>     <th>std err</th>      <th>t</th>      <th>P>|t|</th> <th>[95.0% Conf. Int.]</th> \n",
       "</tr>\n",
       "<tr>\n",
       "  <th>total_cpu_time</th> <td> 1.465e-10</td> <td> 4.41e-11</td> <td>    3.323</td> <td> 0.001</td> <td> 5.94e-11  2.34e-10</td>\n",
       "</tr>\n",
       "<tr>\n",
       "  <th>operand_size</th>   <td>   -0.3563</td> <td>    0.061</td> <td>   -5.824</td> <td> 0.000</td> <td>   -0.477    -0.235</td>\n",
       "</tr>\n",
       "<tr>\n",
       "  <th>num_filters</th>    <td>    0.9139</td> <td>    0.075</td> <td>   12.174</td> <td> 0.000</td> <td>    0.766     1.062</td>\n",
       "</tr>\n",
       "</table>\n",
       "<table class=\"simpletable\">\n",
       "<tr>\n",
       "  <th>Omnibus:</th>       <td>111.648</td> <th>  Durbin-Watson:     </th> <td>   2.131</td> \n",
       "</tr>\n",
       "<tr>\n",
       "  <th>Prob(Omnibus):</th> <td> 0.000</td>  <th>  Jarque-Bera (JB):  </th> <td> 716.474</td> \n",
       "</tr>\n",
       "<tr>\n",
       "  <th>Skew:</th>          <td> 2.759</td>  <th>  Prob(JB):          </th> <td>2.63e-156</td>\n",
       "</tr>\n",
       "<tr>\n",
       "  <th>Kurtosis:</th>      <td>12.011</td>  <th>  Cond. No.          </th> <td>4.15e+09</td> \n",
       "</tr>\n",
       "</table>"
      ],
      "text/plain": [
       "<class 'statsmodels.iolib.summary.Summary'>\n",
       "\"\"\"\n",
       "                            OLS Regression Results                            \n",
       "==============================================================================\n",
       "Dep. Variable:          log_exec_time   R-squared:                       0.891\n",
       "Model:                            OLS   Adj. R-squared:                  0.889\n",
       "Method:                 Least Squares   F-statistic:                     413.3\n",
       "Date:                Wed, 27 Jul 2016   Prob (F-statistic):           1.46e-72\n",
       "Time:                        15:03:23   Log-Likelihood:                -59.390\n",
       "No. Observations:                 154   AIC:                             124.8\n",
       "Df Residuals:                     151   BIC:                             133.9\n",
       "Df Model:                           3                                         \n",
       "Covariance Type:            nonrobust                                         \n",
       "==================================================================================\n",
       "                     coef    std err          t      P>|t|      [95.0% Conf. Int.]\n",
       "----------------------------------------------------------------------------------\n",
       "total_cpu_time  1.465e-10   4.41e-11      3.323      0.001      5.94e-11  2.34e-10\n",
       "operand_size      -0.3563      0.061     -5.824      0.000        -0.477    -0.235\n",
       "num_filters        0.9139      0.075     12.174      0.000         0.766     1.062\n",
       "==============================================================================\n",
       "Omnibus:                      111.648   Durbin-Watson:                   2.131\n",
       "Prob(Omnibus):                  0.000   Jarque-Bera (JB):              716.474\n",
       "Skew:                           2.759   Prob(JB):                    2.63e-156\n",
       "Kurtosis:                      12.011   Cond. No.                     4.15e+09\n",
       "==============================================================================\n",
       "\n",
       "Warnings:\n",
       "[1] Standard Errors assume that the covariance matrix of the errors is correctly specified.\n",
       "[2] The condition number is large, 4.15e+09. This might indicate that there are\n",
       "strong multicollinearity or other numerical problems.\n",
       "\"\"\""
      ]
     },
     "execution_count": 58,
     "metadata": {},
     "output_type": "execute_result"
    }
   ],
   "source": [
    "import statsmodels.formula.api as smf\n",
    "\n",
    "X = final_df[['total_cpu_time','operand_size','num_filters']]\n",
    "#X = final_df [['operand_size','index_size']]\n",
    "y = final_df['log_exec_time']\n",
    "\n",
    "est = smf.OLS(y, X)\n",
    "\n",
    "est = est.fit()\n",
    "est.summary()"
   ]
  },
  {
   "cell_type": "code",
   "execution_count": 60,
   "metadata": {
    "collapsed": false
   },
   "outputs": [
    {
     "data": {
      "text/plain": [
       "<matplotlib.collections.PathCollection at 0x7f39d71c27b8>"
      ]
     },
     "execution_count": 60,
     "metadata": {},
     "output_type": "execute_result"
    },
    {
     "data": {
      "image/png": "[encoded data removed]",
      "text/plain": [
       "<matplotlib.figure.Figure at 0x7f39d7567668>"
      ]
     },
     "metadata": {},
     "output_type": "display_data"
    }
   ],
   "source": [
    "fig,axes = plt.subplots(2,3,figsize=(20,10))\n",
    "axes[0][0].hist(final_df.operand_size)\n",
    "axes[0][1].hist(final_df.num_filters)\n",
    "axes[0][2].hist(final_df.total_cpu_time)\n",
    "axes[1][0].scatter(final_df.operand_size,final_df.log_exec_time)\n",
    "axes[1][1].scatter(final_df.num_filters,final_df.log_exec_time)\n",
    "axes[1][2].scatter(final_df.total_cpu_time,final_df.log_exec_time)"
   ]
  }
 ],
 "metadata": {
  "kernelspec": {
   "display_name": "Python 3",
   "language": "python",
   "name": "python3"
  },
  "language_info": {
   "codemirror_mode": {
    "name": "ipython",
    "version": 3
   },
   "file_extension": ".py",
   "mimetype": "text/x-python",
   "name": "python",
   "nbconvert_exporter": "python",
   "pygments_lexer": "ipython3",
   "version": "3.5.1"
  }
 },
 "nbformat": 4,
 "nbformat_minor": 0
}
